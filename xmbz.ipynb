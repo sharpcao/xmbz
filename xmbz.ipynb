{
 "cells": [
  {
   "cell_type": "code",
   "execution_count": 28,
   "metadata": {},
   "outputs": [],
   "source": [
    "import torch\n",
    "import os\n",
    "import pandas as pd\n",
    "import numpy as np\n",
    "from torch.utils.data import Dataset"
   ]
  },
  {
   "cell_type": "code",
   "execution_count": 29,
   "metadata": {},
   "outputs": [
    {
     "data": {
      "text/plain": [
       "('上午可以配送么？', '预约时间')"
      ]
     },
     "execution_count": 29,
     "metadata": {},
     "output_type": "execute_result"
    }
   ],
   "source": [
    "class myData(Dataset):\n",
    "    def __init__(self, file = 'train3.csv'):\n",
    "        super().__init__()\n",
    "        self.data = pd.read_csv(file )\n",
    "        self.n = len(self.data)\n",
    "        \n",
    "    def __len__(self):\n",
    "        return self.n\n",
    "    \n",
    "    def __getitem__(self,idx):\n",
    "        return (self.data.iloc[idx,0],self.data.iloc[idx,1])\n",
    "\n",
    "myData()[1]"
   ]
  },
  {
   "cell_type": "code",
   "execution_count": 30,
   "metadata": {},
   "outputs": [],
   "source": [
    "class myDict:\n",
    "    \n",
    "    def __init__(self,dict_file=\"model_2.vec\",ndim = 100):\n",
    "        self.dict = {}\n",
    "        self.ndim = ndim\n",
    "        with open(dict_file,encoding='utf8') as f:\n",
    "            f.readline()\n",
    "            for line in f:\n",
    "                line = line.strip().split(' ')\n",
    "                self.dict[line[0]] = np.array([float(x) for x in line[1:]])\n",
    "       \n",
    "    def lineToTensor(self,line):\n",
    "       \n",
    "        line = list(line)\n",
    "        dd = np.zeros((len(line),self.ndim))\n",
    "        for i,c in enumerate(line):\n",
    "            if c in self.dict.keys():\n",
    "                dd[i,:] = self.dict[c]\n",
    "            \n",
    "\n",
    "        return torch.FloatTensor(dd)\n",
    "    \n",
    "\n"
   ]
  },
  {
   "cell_type": "markdown",
   "metadata": {},
   "source": [
    "# 模型"
   ]
  },
  {
   "cell_type": "code",
   "execution_count": 31,
   "metadata": {},
   "outputs": [],
   "source": [
    "class RNN(torch.nn.Module):\n",
    "    def __init__(self,input_size, hidden_size, output_size):\n",
    "        super().__init__()\n",
    "        self.ips = input_size\n",
    "        self.hs = hidden_size\n",
    "        self.os = output_size\n",
    "        \n",
    "        self.i2r = torch.nn.Linear(self.ips+self.hs,self.hs)\n",
    "        \n",
    "        self.i2h = torch.nn.Linear(self.ips,self.hs)\n",
    "        self.h2o = torch.nn.Linear(self.hs, self.os)\n",
    "       \n",
    "\n",
    "    def forward(self,input, hidden):\n",
    "        x = torch.cat((input,hidden),0)\n",
    "        #print(x.shape)\n",
    "        r = torch.sigmoid(self.i2r(x))\n",
    "        #print(r.shape)\n",
    "        hidden = r*hidden + (1-r)*self.i2h(input)\n",
    "        #hidden = hidden / (0.0001+torch.max(torch.abs(hidden)))\n",
    "        output = self.h2o(hidden)\n",
    "        return (output,hidden)\n",
    "\n",
    "rnn = RNN(100,4,3)   "
   ]
  },
  {
   "cell_type": "code",
   "execution_count": 33,
   "metadata": {},
   "outputs": [
    {
     "data": {
      "text/plain": [
       "(tensor([0.1347, 0.3135, 0.4697], grad_fn=<AddBackward0>),\n",
       " tensor([-0.0478, -0.0085,  0.0019,  0.0036], grad_fn=<AddBackward0>))"
      ]
     },
     "execution_count": 33,
     "metadata": {},
     "output_type": "execute_result"
    }
   ],
   "source": [
    "rnn(torch.zeros(100),torch.zeros(4))"
   ]
  },
  {
   "cell_type": "code",
   "execution_count": 34,
   "metadata": {},
   "outputs": [],
   "source": [
    "def calc_rnn(x,nhidden = 4):\n",
    "    hidden = torch.zeros(nhidden)\n",
    "    for i in range(x.shape[0]):\n",
    "        out,hidden = rnn(x[i],hidden)\n",
    "        #print(out.data,hidden.data)\n",
    "    return out\n"
   ]
  },
  {
   "cell_type": "code",
   "execution_count": 35,
   "metadata": {},
   "outputs": [],
   "source": [
    "mydata = myData()\n",
    "mydict = myDict()\n",
    "ndata = len(mydata)\n",
    "\n",
    "def sim1(a,b):\n",
    "    return torch.abs(torch.sum(a*b)/torch.sqrt(torch.sum(a*a)*torch.sum(b*b)))\n",
    "    \n",
    "def sim2(a,b):\n",
    "    d = torch.sum((a-b)**2)\n",
    "    return 1/(1+d)\n",
    "\n",
    "def calc_md(x):\n",
    "    return calc_rnn(mydict.lineToTensor(x))\n",
    "\n",
    "def train():\n",
    "    out = torch.FloatTensor([0])\n",
    "    for i in range(100):\n",
    "        a = np.random.randint(0,39)\n",
    "        b = np.random.randint(0,ndata)\n",
    "        oa = calc_md(mydata[a][0])\n",
    "        ob = calc_md(mydata[b][0])\n",
    "\n",
    "        yh = sim1(oa,ob)\n",
    "        if (yh>0 and yh <1):\n",
    "            if mydata[a][1]== mydata[b][1]:\n",
    "                out = out - torch.log(yh)\n",
    "            else:\n",
    "                out = out - torch.log(1-yh)\n",
    "    return(out)\n"
   ]
  },
  {
   "cell_type": "code",
   "execution_count": 48,
   "metadata": {},
   "outputs": [
    {
     "name": "stdout",
     "output_type": "stream",
     "text": [
      "0 tensor([132.1419])\n",
      "1 tensor([136.8150])\n",
      "2 tensor([159.4898])\n",
      "3 tensor([380.1130])\n",
      "4 tensor([142.2850])\n",
      "5 tensor([118.3133])\n",
      "6 tensor([132.3394])\n",
      "7 tensor([125.2715])\n",
      "8 tensor([111.4980])\n",
      "9 tensor([145.8117])\n"
     ]
    }
   ],
   "source": [
    "for i in range(10):\n",
    "    \n",
    "    out = train()\n",
    "    rnn.zero_grad()\n",
    "    out.backward()\n",
    "\n",
    "    print(i , out.data)\n",
    "    for p in rnn.parameters():\n",
    "        p.data -= p.grad.data * 0.01"
   ]
  },
  {
   "cell_type": "code",
   "execution_count": null,
   "metadata": {},
   "outputs": [],
   "source": [
    "yh_list\n"
   ]
  },
  {
   "cell_type": "code",
   "execution_count": 55,
   "metadata": {},
   "outputs": [
    {
     "data": {
      "text/plain": [
       "tensor(0.6349, grad_fn=<AbsBackward>)"
      ]
     },
     "execution_count": 55,
     "metadata": {},
     "output_type": "execute_result"
    }
   ],
   "source": [
    "sim1(calc_md('今天晚上8点半就可以'),calc_md('9点可以送吗'))"
   ]
  },
  {
   "cell_type": "code",
   "execution_count": null,
   "metadata": {
    "scrolled": true
   },
   "outputs": [],
   "source": [
    "calc_rnn(mydict.lineToTensor( '是的'))"
   ]
  },
  {
   "cell_type": "code",
   "execution_count": null,
   "metadata": {},
   "outputs": [],
   "source": [
    "calc_rnn(mydict.lineToTensor( '你好，七点能送嘛？'))"
   ]
  },
  {
   "cell_type": "code",
   "execution_count": null,
   "metadata": {},
   "outputs": [],
   "source": [
    "mydict.lineToTensor( '是的')"
   ]
  },
  {
   "cell_type": "code",
   "execution_count": null,
   "metadata": {},
   "outputs": [],
   "source": [
    "mydict.lineToTensor( '你好，七点能送嘛？')"
   ]
  },
  {
   "cell_type": "code",
   "execution_count": null,
   "metadata": {},
   "outputs": [],
   "source": [
    "list(rnn.named_parameters())\n"
   ]
  },
  {
   "cell_type": "code",
   "execution_count": null,
   "metadata": {},
   "outputs": [],
   "source": [
    "torch.sigmoid(torch.Tensor([-0.1168]))"
   ]
  },
  {
   "cell_type": "code",
   "execution_count": null,
   "metadata": {},
   "outputs": [],
   "source": [
    "yh_list"
   ]
  },
  {
   "cell_type": "code",
   "execution_count": null,
   "metadata": {},
   "outputs": [],
   "source": [
    "d_list"
   ]
  },
  {
   "cell_type": "code",
   "execution_count": null,
   "metadata": {},
   "outputs": [],
   "source": []
  }
 ],
 "metadata": {
  "kernelspec": {
   "display_name": "Python 3",
   "language": "python",
   "name": "python3"
  },
  "language_info": {
   "codemirror_mode": {
    "name": "ipython",
    "version": 3
   },
   "file_extension": ".py",
   "mimetype": "text/x-python",
   "name": "python",
   "nbconvert_exporter": "python",
   "pygments_lexer": "ipython3",
   "version": "3.7.4"
  }
 },
 "nbformat": 4,
 "nbformat_minor": 2
}
